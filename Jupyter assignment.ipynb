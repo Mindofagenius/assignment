{
 "cells": [
  {
   "cell_type": "markdown",
   "id": "585d2c81-8299-4a82-886a-7e6e6fcc84dd",
   "metadata": {},
   "source": [
    "# Data Science"
   ]
  },
  {
   "cell_type": "markdown",
   "id": "e449f484-fb61-4f23-937a-3f5472ab62f0",
   "metadata": {},
   "source": [
    "Data science is the science of data, meaning the study and exploration of data for the purpose of understanding an environment and possibily predicting future outcomes."
   ]
  },
  {
   "cell_type": "markdown",
   "id": "798343c4-1dea-401e-a3e2-5faa4affd553",
   "metadata": {},
   "source": [
    "Data science languages include \n",
    "- python\n",
    "- java\n",
    "- scala\n",
    "- C++ and so many more"
   ]
  },
  {
   "cell_type": "markdown",
   "id": "8ca2556b-7426-47d7-9a1e-f3d08fec43bc",
   "metadata": {},
   "source": [
    "Data science libraries are as such;\n",
    "+ pandas\n",
    "+ numpy\n",
    "\n"
   ]
  },
  {
   "cell_type": "markdown",
   "id": "59832182-5120-4a9f-a122-748c1ca50b3e",
   "metadata": {},
   "source": [
    "|data managment|data integration|data visualization|\n",
    "|---------------|-------|---------|\n",
    "|0racle database|ibm info spehere|microsoft power Bi|"
   ]
  },
  {
   "cell_type": "markdown",
   "id": "809a9e7c-ecbe-458b-8fd8-ede86b916f15",
   "metadata": {},
   "source": [
    "here are arithmetic expression examples: 2+2=4,3+4=7"
   ]
  },
  {
   "cell_type": "code",
   "execution_count": 8,
   "id": "ce2ece62-071b-4740-ac8b-01cef3869d25",
   "metadata": {},
   "outputs": [
    {
     "name": "stdin",
     "output_type": "stream",
     "text": [
      "Enter first number:  5\n",
      "Enter second number:  5\n"
     ]
    },
    {
     "name": "stdout",
     "output_type": "stream",
     "text": [
      "The sum of 5 and 5 is 10.0\n",
      "The multiplication of 5 and 5 is 25.0\n"
     ]
    }
   ],
   "source": [
    "# Taking input\n",
    "num1 = input('Enter first number: ')\n",
    "num2 = input('Enter second number: ')\n",
    "# Addition\n",
    "sum = float(num1) + float(num2)\n",
    "# Multiplication\n",
    "mul = float(num1) * float(num2)\n",
    "print('The sum of {0} and {1} is {2}'.format(num1, num2, sum))\n",
    "print('The multiplication of {0} and {1} is {2}'.format(num1, num2, mul))"
   ]
  },
  {
   "cell_type": "code",
   "execution_count": 40,
   "id": "8f9ce06c-e225-496a-985a-b06ff8cf43a3",
   "metadata": {},
   "outputs": [
    {
     "name": "stdout",
     "output_type": "stream",
     "text": [
      "0:30:00\n"
     ]
    }
   ],
   "source": [
    "def convert(seconds):\n",
    "    seconds = seconds % (24 * 3600)\n",
    "    hour = seconds // 3600\n",
    "    seconds %= 3600\n",
    "    minutes = seconds // 60\n",
    "    seconds %= 60\n",
    "\n",
    "    return \"%d:%02d:%02d\" % (hour, minutes, seconds)\n",
    "\n",
    "# convert minutes to hours\n",
    "# insert minutes to be multiplied by n\n",
    "n = 3600/60\n",
    "hour= n* 30 #insert minutes here\n",
    "print(convert(hour))"
   ]
  },
  {
   "cell_type": "markdown",
   "id": "f5ea330f-4615-4011-aec9-688b475ee16f",
   "metadata": {},
   "source": [
    "objectives\n",
    "- to pass the class\n",
    "- to get 25/25 on this assignment"
   ]
  },
  {
   "cell_type": "markdown",
   "id": "c350d23e-f3d5-4426-b78a-974d116fff3b",
   "metadata": {},
   "source": [
    "Name: Naol G"
   ]
  },
  {
   "cell_type": "markdown",
   "id": "0df66bce-3360-42b3-a89a-5b4e2838745a",
   "metadata": {},
   "source": [
    "Thank you your feedback is much appreciated!"
   ]
  },
  {
   "cell_type": "code",
   "execution_count": null,
   "id": "ce9163ea-0454-4877-800f-c5f72444e487",
   "metadata": {},
   "outputs": [],
   "source": []
  }
 ],
 "metadata": {
  "kernelspec": {
   "display_name": "Python",
   "language": "python",
   "name": "conda-env-python-py"
  },
  "language_info": {
   "codemirror_mode": {
    "name": "ipython",
    "version": 3
   },
   "file_extension": ".py",
   "mimetype": "text/x-python",
   "name": "python",
   "nbconvert_exporter": "python",
   "pygments_lexer": "ipython3",
   "version": "3.7.12"
  }
 },
 "nbformat": 4,
 "nbformat_minor": 5
}
